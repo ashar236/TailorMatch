{
 "cells": [
  {
   "cell_type": "markdown",
   "metadata": {},
   "source": [
    "# Fine-Tuning Large Language Models with OpenAI API\n",
    "\n",
    "This notebook sets up and sends a request to the OpenAI API to fine-tune a model. The process involves configuring the API endpoint, loading environment variables for authentication, and defining the data payload for the fine-tuning job. "
   ]
  },
  {
   "cell_type": "code",
   "execution_count": null,
   "metadata": {},
   "outputs": [],
   "source": [
    "import requests\n",
    "\n",
    "import os\n",
    "from dotenv import load_dotenv\n",
    "import json\n",
    "\n",
    "\n",
    "# Load OPENAI_API_KEY from .env file\n",
    "load_dotenv()"
   ]
  },
  {
   "cell_type": "code",
   "execution_count": null,
   "metadata": {},
   "outputs": [],
   "source": [
    "# Define the API endpoint and your API key\n",
    "api_url = \"https://api.openai.com/v1/fine_tuning/jobs\"\n",
    "api_key = os.getenv(\"OPENAI_API_KEY\")\n",
    "\n",
    "# Create the data payload\n",
    "data = {\n",
    "    \"model\": , # set the model you want to fine-tune\n",
    "    \"training_file\": , # set the training file\n",
    "    \"validation_file\": , # set the validation file\n",
    "    \"hyperparameters\": {\n",
    "        \"n_epochs\": 10\n",
    "    },\n",
    "    \"seed\": 42,\n",
    "    \"integrations\": [\n",
    "        {\n",
    "            \"type\": \"wandb\",\n",
    "            \"wandb\": {\n",
    "                \"project\": , # set the project name\n",
    "                \"tags\": [] # set the tags\n",
    "            }\n",
    "        }\n",
    "    ]\n",
    "}"
   ]
  },
  {
   "cell_type": "code",
   "execution_count": null,
   "metadata": {},
   "outputs": [],
   "source": [
    "# Set up the headers with authorization and content type\n",
    "headers = {\n",
    "    \"Authorization\": f\"Bearer {api_key}\",\n",
    "    \"Content-Type\": \"application/json\"\n",
    "}\n",
    "\n",
    "# Send the POST request\n",
    "response = requests.post(api_url, headers=headers, data=json.dumps(data))\n",
    "\n",
    "# Check for success and print response\n",
    "if response.status_code == 200:\n",
    "    print(\"Request successful!\")\n",
    "    print(response.json())\n",
    "else:\n",
    "    print(f\"Request failed with status code {response.status_code}\")\n",
    "    print(response.text)"
   ]
  }
 ],
 "metadata": {
  "language_info": {
   "name": "python"
  }
 },
 "nbformat": 4,
 "nbformat_minor": 2
}
