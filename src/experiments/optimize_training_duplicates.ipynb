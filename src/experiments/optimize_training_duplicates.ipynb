{
 "cells": [
  {
   "cell_type": "code",
   "execution_count": 36,
   "metadata": {},
   "outputs": [],
   "source": [
    "import pandas as pd"
   ]
  },
  {
   "cell_type": "code",
   "execution_count": 29,
   "metadata": {},
   "outputs": [],
   "source": [
    "validated_df = pd.read_json(\"../../data/temp/validation_results.json\")\n",
    "training_small = pd.read_pickle(\"../../data/wdc/preprocessed_wdcproducts80cc20rnd000un_train_small.pkl.gz\", compression=\"gzip\")\n",
    "training_large = pd.read_pickle(\"../../data/wdc/preprocessed_wdcproducts80cc20rnd000un_train_large.pkl.gz\", compression=\"gzip\")"
   ]
  },
  {
   "cell_type": "code",
   "execution_count": 30,
   "metadata": {},
   "outputs": [
    {
     "name": "stdout",
     "output_type": "stream",
     "text": [
      "Ratio of positive to negative examples in training data:  0.7454241464273144\n"
     ]
    }
   ],
   "source": [
    "# calculate the ratio of the number of positive examples to the number of negative examples\n",
    "ratio = len(training_large[training_large[\"label\"] == 1]) / len(training_large[training_large[\"label\"] == 0])\n",
    "print(\"Ratio of positive to negative examples in training data: \", ratio)"
   ]
  },
  {
   "cell_type": "code",
   "execution_count": 31,
   "metadata": {},
   "outputs": [
    {
     "name": "stdout",
     "output_type": "stream",
     "text": [
      "Ratio of positive to negative examples in training data:  1.5480769230769231\n"
     ]
    }
   ],
   "source": [
    "# Get all mistakes from the validation set\n",
    "mistakes = validated_df[validated_df[\"label\"] != validated_df[\"chatbot_response_clean\"]]\n",
    "\n",
    "ratio = len(mistakes[mistakes[\"label\"] == 1]) / len(mistakes[mistakes[\"label\"] == 0])\n",
    "print(\"Ratio of positive to negative examples in training data: \", ratio)\n"
   ]
  },
  {
   "cell_type": "code",
   "execution_count": 32,
   "metadata": {},
   "outputs": [],
   "source": [
    "# Function to get similar examples from the training data based on cluster_id\n",
    "def get_similar_examples(mistake_row, training_data, cluster_id_col, num_samples=5):\n",
    "    cluster_id = mistake_row[cluster_id_col]\n",
    "    \n",
    "    # Filter the training data based on the cluster_id\n",
    "    similar_examples = training_data[\n",
    "        (training_data[cluster_id_col] == cluster_id)\n",
    "    ]\n",
    "    \n",
    "    # Sample num_samples similar examples\n",
    "    return similar_examples.sample(n=num_samples, replace=True)"
   ]
  },
  {
   "cell_type": "code",
   "execution_count": 37,
   "metadata": {},
   "outputs": [],
   "source": [
    "def create_prompt(product1: str, product2: str, answer: int):\n",
    "    correct = 'Yes' if answer == 1 else 'No'\n",
    "\n",
    "    prompt = f\"Do the two entity descriptions refer to the same real-world entity? Entity 1: '{product1}'. Entity 2: '{product2}'.\"\n",
    "\n",
    "    return  {\n",
    "        \"prompt\": prompt,\n",
    "        \"completion\": correct\n",
    "    }"
   ]
  },
  {
   "cell_type": "code",
   "execution_count": 38,
   "metadata": {},
   "outputs": [],
   "source": [
    "# Get all mistakes with 0 label\n",
    "mistakes_0 = mistakes[mistakes[\"label\"] == 0]\n",
    "mistakes_1 = mistakes[mistakes[\"label\"] == 1]\n",
    "\n",
    "# Create an empty DataFrame to store the results\n",
    "similar_examples_df = pd.DataFrame()\n",
    "\n",
    "# Iterate over each mistake and get 5 similar examples based on cluster_id_left and 5 based on cluster_id_right\n",
    "for index, row in mistakes_0.iterrows():\n",
    "    # Get 5 examples based on cluster_id_left\n",
    "    similar_examples_left = get_similar_examples(row, training_large, 'cluster_id_left', num_samples=4)\n",
    "    \n",
    "    # Get 5 examples based on cluster_id_right\n",
    "    similar_examples_right = get_similar_examples(row, training_large, 'cluster_id_right', num_samples=4)\n",
    "    \n",
    "    # Concatenate the results\n",
    "    similar_examples_df = pd.concat([similar_examples_df, similar_examples_left, similar_examples_right], ignore_index=True)\n",
    "    \n",
    "# Iterate over each mistake and get 5 similar examples based on cluster_id_left and 5 based on cluster_id_right\n",
    "for index, row in mistakes_1.iterrows():\n",
    "    # Get 5 examples based on cluster_id_left\n",
    "    similar_examples_left = get_similar_examples(row, training_large, 'cluster_id_left', num_samples=4)\n",
    "    \n",
    "    # Get 5 examples based on cluster_id_right\n",
    "    similar_examples_right = get_similar_examples(row, training_large, 'cluster_id_right', num_samples=4)\n",
    "    \n",
    "    # Concatenate the results\n",
    "    similar_examples_df = pd.concat([similar_examples_df, similar_examples_left, similar_examples_right], ignore_index=True)\n",
    "\n",
    "# Combine the mistakes with the original training data\n",
    "new_training_data = pd.concat([similar_examples_df, training_small], ignore_index=True)\n",
    "\n",
    "# reset the index\n",
    "new_training_data.reset_index(drop=True, inplace=True)\n",
    "\n",
    "\n",
    "new_training_data = new_training_data.apply(lambda row: create_prompt(row[\"title_left\"], row[\"title_right\"], row[\"label\"]), axis=1, result_type='expand')\n",
    "\n",
    "# Rename the columns to match the desired output\n",
    "new_training_data.columns = [\"prompt\", \"completion\"]\n",
    "\n",
    "new_training_data.to_csv(\"../../data/temp/preprocessed_wdcproducts80cc20rnd000un_train_small_with_similar_examples.csv\", index=False)\n"
   ]
  }
 ],
 "metadata": {
  "kernelspec": {
   "display_name": "env",
   "language": "python",
   "name": "python3"
  },
  "language_info": {
   "codemirror_mode": {
    "name": "ipython",
    "version": 3
   },
   "file_extension": ".py",
   "mimetype": "text/x-python",
   "name": "python",
   "nbconvert_exporter": "python",
   "pygments_lexer": "ipython3",
   "version": "3.11.2"
  }
 },
 "nbformat": 4,
 "nbformat_minor": 2
}
